{
 "cells": [
  {
   "cell_type": "code",
   "execution_count": 1,
   "id": "764dc6da-031c-4e6a-8594-8b0033818763",
   "metadata": {},
   "outputs": [
    {
     "ename": "KeyboardInterrupt",
     "evalue": "",
     "output_type": "error",
     "traceback": [
      "\u001b[1;31m---------------------------------------------------------------------------\u001b[0m",
      "\u001b[1;31mKeyboardInterrupt\u001b[0m                         Traceback (most recent call last)",
      "Cell \u001b[1;32mIn[1], line 19\u001b[0m\n\u001b[0;32m     16\u001b[0m     logo_y \u001b[38;5;241m=\u001b[39m \u001b[38;5;241m10\u001b[39m  \u001b[38;5;66;03m# 10 pixels from top edge\u001b[39;00m\n\u001b[0;32m     18\u001b[0m \u001b[38;5;28;01mwhile\u001b[39;00m \u001b[38;5;28;01mTrue\u001b[39;00m:\n\u001b[1;32m---> 19\u001b[0m     ret, img \u001b[38;5;241m=\u001b[39m \u001b[43mcam\u001b[49m\u001b[38;5;241;43m.\u001b[39;49m\u001b[43mread\u001b[49m\u001b[43m(\u001b[49m\u001b[43m)\u001b[49m\n\u001b[0;32m     20\u001b[0m     \u001b[38;5;28;01mif\u001b[39;00m \u001b[38;5;129;01mnot\u001b[39;00m ret:\n\u001b[0;32m     21\u001b[0m         \u001b[38;5;28;01mbreak\u001b[39;00m\n",
      "\u001b[1;31mKeyboardInterrupt\u001b[0m: "
     ]
    }
   ],
   "source": [
    "import cv2 as cv\n",
    "import numpy as np\n",
    "\n",
    "cam = cv.VideoCapture(0)\n",
    "\n",
    "logo = cv.imread('download.png')\n",
    "logo = cv.resize(logo, (200, 200))\n",
    "\n",
    "# Get webcam frame dimensions\n",
    "ret, frame = cam.read()\n",
    "if ret:\n",
    "    height, width = frame.shape[:2]\n",
    "    \n",
    "    # Calculate position to place logo (top-right corner)\n",
    "    logo_x = width - 200 - 10  # 10 pixels from right edge\n",
    "    logo_y = 10  # 10 pixels from top edge\n",
    "\n",
    "while True:\n",
    "    ret, img = cam.read()\n",
    "    if not ret:\n",
    "        break\n",
    "\n",
    "    img = cv.flip(img, 1)\n",
    "    \n",
    "    # Check if logo position is within frame boundaries\n",
    "    if logo_x + 200 <= width and logo_y + 200 <= height:\n",
    "        img[logo_y:logo_y+200, logo_x:logo_x+200] = logo\n",
    "    else:\n",
    "        print(\"Logo position out of bounds\")\n",
    "\n",
    "    cv.imshow('Frame', img)\n",
    "     \n",
    "    if cv.waitKey(1) == 27:  # ESC key to exit\n",
    "        break\n",
    "\n",
    "cam.release()\n",
    "cv.destroyAllWindows()"
   ]
  },
  {
   "cell_type": "code",
   "execution_count": 12,
   "id": "753acb2d-081d-470f-b4f7-b6f806a82b7b",
   "metadata": {},
   "outputs": [],
   "source": [
    "logo = cv.imread('download.png')\n",
    "\n",
    "logo = cv.resize(logo, (100,100))"
   ]
  },
  {
   "cell_type": "code",
   "execution_count": 3,
   "id": "c0a7806b-fd75-47a8-8e91-f04d86277af4",
   "metadata": {},
   "outputs": [
    {
     "data": {
      "text/plain": [
       "(100, 100, 3)"
      ]
     },
     "execution_count": 3,
     "metadata": {},
     "output_type": "execute_result"
    }
   ],
   "source": [
    "\n",
    "logo.shape"
   ]
  },
  {
   "cell_type": "code",
   "execution_count": 4,
   "id": "6f684305-05d1-45ee-9881-8a5de0dc3734",
   "metadata": {},
   "outputs": [
    {
     "data": {
      "text/plain": [
       "(100, 0, 3)"
      ]
     },
     "execution_count": 4,
     "metadata": {},
     "output_type": "execute_result"
    }
   ],
   "source": [
    "img[ 5 : 105 , 1175 : 1275 ].shape"
   ]
  },
  {
   "cell_type": "code",
   "execution_count": 5,
   "id": "12a323b3-1bc9-4663-ab85-ed47d4fef410",
   "metadata": {},
   "outputs": [
    {
     "data": {
      "text/plain": [
       "(480, 640, 3)"
      ]
     },
     "execution_count": 5,
     "metadata": {},
     "output_type": "execute_result"
    }
   ],
   "source": [
    "\n",
    "img.shape"
   ]
  },
  {
   "cell_type": "code",
   "execution_count": 6,
   "id": "f825039b-9719-4fcc-b0f5-c5f5c6d5629e",
   "metadata": {},
   "outputs": [
    {
     "data": {
      "text/plain": [
       "(100, 100, 3)"
      ]
     },
     "execution_count": 6,
     "metadata": {},
     "output_type": "execute_result"
    }
   ],
   "source": [
    "\n",
    "logo.shape"
   ]
  },
  {
   "cell_type": "code",
   "execution_count": 7,
   "id": "cbdb7abf-8ae5-4437-87fd-ab6b2a5fc867",
   "metadata": {},
   "outputs": [
    {
     "data": {
      "text/plain": [
       "1225"
      ]
     },
     "execution_count": 7,
     "metadata": {},
     "output_type": "execute_result"
    }
   ],
   "source": [
    "\n",
    "1280 - 55"
   ]
  },
  {
   "cell_type": "markdown",
   "id": "8dd670b7-5090-47ea-9e8e-1f0e7e884996",
   "metadata": {},
   "source": [
    "# Adding Logo in Live Video - All Direction Fit"
   ]
  },
  {
   "cell_type": "markdown",
   "id": "1af6a8df-fa43-4f49-b642-91e18cb1abbf",
   "metadata": {},
   "source": [
    "#### 1. Top Right\n",
    "Height (1% = Margin | 7% = Logo | 92% = Vacant) 720\n",
    "\n",
    "Width (95.5% = Margin | 4% = Logo | .5% = Vacant) 1280"
   ]
  },
  {
   "cell_type": "code",
   "execution_count": 1,
   "id": "2cda52ca-79c3-48a2-a2d0-165349a194c1",
   "metadata": {},
   "outputs": [
    {
     "ename": "KeyboardInterrupt",
     "evalue": "",
     "output_type": "error",
     "traceback": [
      "\u001b[1;31m---------------------------------------------------------------------------\u001b[0m",
      "\u001b[1;31mKeyboardInterrupt\u001b[0m                         Traceback (most recent call last)",
      "Cell \u001b[1;32mIn[1], line 31\u001b[0m\n\u001b[0;32m     27\u001b[0m img[ margin_top : logo_width \u001b[38;5;241m+\u001b[39m margin_top , margin_left : margin_left \u001b[38;5;241m+\u001b[39m logo_width ] \u001b[38;5;241m=\u001b[39m logo\n\u001b[0;32m     29\u001b[0m cv\u001b[38;5;241m.\u001b[39mimshow(\u001b[38;5;124m'\u001b[39m\u001b[38;5;124mFrame\u001b[39m\u001b[38;5;124m'\u001b[39m  , img)\n\u001b[1;32m---> 31\u001b[0m \u001b[38;5;28;01mif\u001b[39;00m \u001b[43mcv\u001b[49m\u001b[38;5;241;43m.\u001b[39;49m\u001b[43mwaitKey\u001b[49m\u001b[43m(\u001b[49m\u001b[38;5;241;43m1\u001b[39;49m\u001b[43m)\u001b[49m \u001b[38;5;241m==\u001b[39m \u001b[38;5;241m27\u001b[39m:\n\u001b[0;32m     32\u001b[0m     cam\u001b[38;5;241m.\u001b[39mrelease()\n\u001b[0;32m     33\u001b[0m     \u001b[38;5;28;01mbreak\u001b[39;00m\n",
      "\u001b[1;31mKeyboardInterrupt\u001b[0m: "
     ]
    }
   ],
   "source": [
    "import cv2 as cv\n",
    "import numpy as np\n",
    " \n",
    "cam = cv.VideoCapture(0)\n",
    "\n",
    "logo = cv.imread('download.png')\n",
    "\n",
    "while True:\n",
    "    \n",
    "    _, img = cam.read()\n",
    "\n",
    "    img = cv.flip(img,1)\n",
    "    \n",
    "    ht = img.shape[0]\n",
    "    wt = img.shape[1]\n",
    "    \n",
    "    margin_top  = int(ht/100)             # 1%\n",
    "    logo_height = int((ht/100)*7)         # 7%\n",
    "    \n",
    "    margin_left = int((wt/100)*95.5)      # 95.5%\n",
    "    logo_width  = int((wt/100)*4)         # 4%\n",
    "    \n",
    "    \n",
    "    logo = cv.resize(logo, (logo_width, logo_width))\n",
    "    \n",
    "    \n",
    "    img[ margin_top : logo_width + margin_top , margin_left : margin_left + logo_width ] = logo\n",
    "\n",
    "    cv.imshow('Frame'  , img)\n",
    "     \n",
    "    if cv.waitKey(1) == 27:\n",
    "        cam.release()\n",
    "        break"
   ]
  },
  {
   "cell_type": "markdown",
   "id": "2952ae5c-de4b-45d7-95cf-2044318347b1",
   "metadata": {},
   "source": [
    "### 2. Top Left\n",
    "Height (1% = Margin | 7% = Logo | 92% = Vacant) 720\n",
    "\n",
    "Width (.5% = Margin | 4% = Logo | 95.5% = Vacant) 1280"
   ]
  },
  {
   "cell_type": "code",
   "execution_count": 1,
   "id": "f6fc88b9-1f84-4064-8d5a-52959ff00455",
   "metadata": {},
   "outputs": [
    {
     "ename": "KeyboardInterrupt",
     "evalue": "",
     "output_type": "error",
     "traceback": [
      "\u001b[1;31m---------------------------------------------------------------------------\u001b[0m",
      "\u001b[1;31mKeyboardInterrupt\u001b[0m                         Traceback (most recent call last)",
      "Cell \u001b[1;32mIn[1], line 31\u001b[0m\n\u001b[0;32m     27\u001b[0m img[ margin_top : logo_width \u001b[38;5;241m+\u001b[39m margin_top , margin_left : margin_left \u001b[38;5;241m+\u001b[39m logo_width ] \u001b[38;5;241m=\u001b[39m logo\n\u001b[0;32m     29\u001b[0m cv\u001b[38;5;241m.\u001b[39mimshow(\u001b[38;5;124m'\u001b[39m\u001b[38;5;124mFrame\u001b[39m\u001b[38;5;124m'\u001b[39m  , img)\n\u001b[1;32m---> 31\u001b[0m \u001b[38;5;28;01mif\u001b[39;00m \u001b[43mcv\u001b[49m\u001b[38;5;241;43m.\u001b[39;49m\u001b[43mwaitKey\u001b[49m\u001b[43m(\u001b[49m\u001b[38;5;241;43m1\u001b[39;49m\u001b[43m)\u001b[49m \u001b[38;5;241m==\u001b[39m \u001b[38;5;241m27\u001b[39m:\n\u001b[0;32m     32\u001b[0m     cam\u001b[38;5;241m.\u001b[39mrelease()\n\u001b[0;32m     33\u001b[0m     \u001b[38;5;28;01mbreak\u001b[39;00m\n",
      "\u001b[1;31mKeyboardInterrupt\u001b[0m: "
     ]
    }
   ],
   "source": [
    "import cv2 as cv\n",
    "import numpy as np\n",
    " \n",
    "cam = cv.VideoCapture(0)\n",
    "\n",
    "logo = cv.imread('download.png')\n",
    "\n",
    "while True:\n",
    "    \n",
    "    _, img = cam.read()\n",
    "\n",
    "    img = cv.flip(img,1)\n",
    "    \n",
    "    ht = img.shape[0]\n",
    "    wt = img.shape[1]\n",
    "    \n",
    "    margin_top  = int(ht/100)             # 1%\n",
    "    logo_height = int((ht/100)*7)         # 7%\n",
    "    \n",
    "    margin_left = int((wt/100)*.5)        # .5%\n",
    "    logo_width  = int((wt/100)*4)         # 4%\n",
    "    \n",
    "    \n",
    "    logo = cv.resize(logo, (logo_width, logo_width))\n",
    "    \n",
    "    \n",
    "    img[ margin_top : logo_width + margin_top , margin_left : margin_left + logo_width ] = logo\n",
    "\n",
    "    cv.imshow('Frame'  , img)\n",
    "     \n",
    "    if cv.waitKey(1) == 27:\n",
    "        cam.release()\n",
    "        break"
   ]
  },
  {
   "cell_type": "markdown",
   "id": "c0ed332f-d670-410e-baa5-471dbcb93817",
   "metadata": {},
   "source": [
    "### 3. Bottom Left\n",
    "Height (92% = Margin | 7% = Logo | 1% = Vacant) 720\n",
    "\n",
    "Width (.5% = Margin | 4% = Logo | 95.5% = Vacant) 1280"
   ]
  },
  {
   "cell_type": "code",
   "execution_count": 2,
   "id": "d98a574c-d1e9-4809-97b2-7e97a773466d",
   "metadata": {},
   "outputs": [
    {
     "ename": "KeyboardInterrupt",
     "evalue": "",
     "output_type": "error",
     "traceback": [
      "\u001b[1;31m---------------------------------------------------------------------------\u001b[0m",
      "\u001b[1;31mKeyboardInterrupt\u001b[0m                         Traceback (most recent call last)",
      "Cell \u001b[1;32mIn[2], line 10\u001b[0m\n\u001b[0;32m      6\u001b[0m logo \u001b[38;5;241m=\u001b[39m cv\u001b[38;5;241m.\u001b[39mimread(\u001b[38;5;124m'\u001b[39m\u001b[38;5;124mdownload.png\u001b[39m\u001b[38;5;124m'\u001b[39m)\n\u001b[0;32m      8\u001b[0m \u001b[38;5;28;01mwhile\u001b[39;00m \u001b[38;5;28;01mTrue\u001b[39;00m:\n\u001b[1;32m---> 10\u001b[0m     _, img \u001b[38;5;241m=\u001b[39m \u001b[43mcam\u001b[49m\u001b[38;5;241;43m.\u001b[39;49m\u001b[43mread\u001b[49m\u001b[43m(\u001b[49m\u001b[43m)\u001b[49m\n\u001b[0;32m     12\u001b[0m     img \u001b[38;5;241m=\u001b[39m cv\u001b[38;5;241m.\u001b[39mflip(img,\u001b[38;5;241m1\u001b[39m)\n\u001b[0;32m     14\u001b[0m     ht \u001b[38;5;241m=\u001b[39m img\u001b[38;5;241m.\u001b[39mshape[\u001b[38;5;241m0\u001b[39m]\n",
      "\u001b[1;31mKeyboardInterrupt\u001b[0m: "
     ]
    }
   ],
   "source": [
    "import cv2 as cv\n",
    "import numpy as np\n",
    " \n",
    "cam = cv.VideoCapture(0)\n",
    "\n",
    "logo = cv.imread('download.png')\n",
    "\n",
    "while True:\n",
    "    \n",
    "    _, img = cam.read()\n",
    "\n",
    "    img = cv.flip(img,1)\n",
    "    \n",
    "    ht = img.shape[0]\n",
    "    wt = img.shape[1]\n",
    "    \n",
    "    margin_top  = int((ht/100)*92)        # 92%\n",
    "    logo_height = int((ht/100)*7)         # 7%\n",
    "    \n",
    "    margin_left = int((wt/100)*.5)        # .5%\n",
    "    logo_width  = int((wt/100)*4)         # 4%\n",
    "    \n",
    "    \n",
    "    logo = cv.resize(logo, (logo_width, logo_width))\n",
    "    \n",
    "    \n",
    "    img[ margin_top : logo_width + margin_top , margin_left : margin_left + logo_width ] = logo\n",
    "\n",
    "    cv.imshow('Frame'  , img)\n",
    "     \n",
    "    if cv.waitKey(1) == 27:\n",
    "        cam.release()\n",
    "        break"
   ]
  },
  {
   "cell_type": "markdown",
   "id": "16edebf7-1f57-4eb1-90ae-6e9532d7f508",
   "metadata": {},
   "source": [
    "### 4. Bottom Right\n",
    "Height (92% = Margin | 7% = Logo | 1% = Vacant) 720\n",
    "\n",
    "Width (.5% = Margin | 4% = Logo | 95.5% = Vacant) 1280"
   ]
  },
  {
   "cell_type": "code",
   "execution_count": 3,
   "id": "12c3d781-ddd2-431c-a904-3ba7ef0f6bf2",
   "metadata": {},
   "outputs": [
    {
     "ename": "KeyboardInterrupt",
     "evalue": "",
     "output_type": "error",
     "traceback": [
      "\u001b[1;31m---------------------------------------------------------------------------\u001b[0m",
      "\u001b[1;31mKeyboardInterrupt\u001b[0m                         Traceback (most recent call last)",
      "Cell \u001b[1;32mIn[3], line 10\u001b[0m\n\u001b[0;32m      6\u001b[0m logo \u001b[38;5;241m=\u001b[39m cv\u001b[38;5;241m.\u001b[39mimread(\u001b[38;5;124m'\u001b[39m\u001b[38;5;124mdownload.png\u001b[39m\u001b[38;5;124m'\u001b[39m)\n\u001b[0;32m      8\u001b[0m \u001b[38;5;28;01mwhile\u001b[39;00m \u001b[38;5;28;01mTrue\u001b[39;00m:\n\u001b[1;32m---> 10\u001b[0m     _, img \u001b[38;5;241m=\u001b[39m \u001b[43mcam\u001b[49m\u001b[38;5;241;43m.\u001b[39;49m\u001b[43mread\u001b[49m\u001b[43m(\u001b[49m\u001b[43m)\u001b[49m\n\u001b[0;32m     12\u001b[0m     img \u001b[38;5;241m=\u001b[39m cv\u001b[38;5;241m.\u001b[39mflip(img,\u001b[38;5;241m1\u001b[39m)\n\u001b[0;32m     14\u001b[0m     ht \u001b[38;5;241m=\u001b[39m img\u001b[38;5;241m.\u001b[39mshape[\u001b[38;5;241m0\u001b[39m]\n",
      "\u001b[1;31mKeyboardInterrupt\u001b[0m: "
     ]
    }
   ],
   "source": [
    "import cv2 as cv\n",
    "import numpy as np\n",
    " \n",
    "cam = cv.VideoCapture(0)\n",
    "\n",
    "logo = cv.imread('download.png')\n",
    "\n",
    "while True:\n",
    "    \n",
    "    _, img = cam.read()\n",
    "\n",
    "    img = cv.flip(img,1)\n",
    "    \n",
    "    ht = img.shape[0]\n",
    "    wt = img.shape[1]\n",
    "    \n",
    "    margin_top  = int((ht/100)*92)        # 92%\n",
    "    logo_height = int((ht/100)*7)         # 7%\n",
    "    \n",
    "    margin_left = int((wt/100)*.5)        # .5%\n",
    "    logo_width  = int((wt/100)*4)         # 4%\n",
    "    \n",
    "    \n",
    "    logo = cv.resize(logo, (logo_width, logo_width))\n",
    "    \n",
    "    \n",
    "    img[ margin_top : logo_width + margin_top , margin_left : margin_left + logo_width ] = logo\n",
    "\n",
    "    cv.imshow('Frame'  , img)\n",
    "     \n",
    "    if cv.waitKey(1) == 27:\n",
    "        cam.release()\n",
    "        break"
   ]
  },
  {
   "cell_type": "markdown",
   "id": "d6e0afa4-39fb-4be1-8869-3be7c0c6164f",
   "metadata": {},
   "source": [
    "### 5. Merging Everything"
   ]
  },
  {
   "cell_type": "code",
   "execution_count": 1,
   "id": "f8b0f6ef-b58e-44d6-94d4-6ccc5b7d3b79",
   "metadata": {},
   "outputs": [
    {
     "ename": "KeyboardInterrupt",
     "evalue": "",
     "output_type": "error",
     "traceback": [
      "\u001b[1;31m---------------------------------------------------------------------------\u001b[0m",
      "\u001b[1;31mKeyboardInterrupt\u001b[0m                         Traceback (most recent call last)",
      "Cell \u001b[1;32mIn[1], line 10\u001b[0m\n\u001b[0;32m      6\u001b[0m logo \u001b[38;5;241m=\u001b[39m cv\u001b[38;5;241m.\u001b[39mimread(\u001b[38;5;124m'\u001b[39m\u001b[38;5;124mdownload.png\u001b[39m\u001b[38;5;124m'\u001b[39m)\n\u001b[0;32m      8\u001b[0m \u001b[38;5;28;01mwhile\u001b[39;00m \u001b[38;5;28;01mTrue\u001b[39;00m:\n\u001b[1;32m---> 10\u001b[0m     _, img \u001b[38;5;241m=\u001b[39m \u001b[43mcam\u001b[49m\u001b[38;5;241;43m.\u001b[39;49m\u001b[43mread\u001b[49m\u001b[43m(\u001b[49m\u001b[43m)\u001b[49m\n\u001b[0;32m     12\u001b[0m     img \u001b[38;5;241m=\u001b[39m cv\u001b[38;5;241m.\u001b[39mflip(img,\u001b[38;5;241m1\u001b[39m)\n\u001b[0;32m     14\u001b[0m     ht \u001b[38;5;241m=\u001b[39m img\u001b[38;5;241m.\u001b[39mshape[\u001b[38;5;241m0\u001b[39m]\n",
      "\u001b[1;31mKeyboardInterrupt\u001b[0m: "
     ]
    }
   ],
   "source": [
    "import cv2 as cv\n",
    "import numpy as np\n",
    " \n",
    "cam = cv.VideoCapture(0)\n",
    "\n",
    "logo = cv.imread('download.png')\n",
    "\n",
    "while True:\n",
    "    \n",
    "    _, img = cam.read()\n",
    "\n",
    "    img = cv.flip(img,1)\n",
    "    \n",
    "    ht = img.shape[0]\n",
    "    wt = img.shape[1]\n",
    "    \n",
    "#    Top Right\n",
    "    margin_top  = int(ht/100)             # 1%\n",
    "    logo_height = int((ht/100)*7)         # 7%\n",
    "    margin_left = int((wt/100)*95.5)      # 95.5%\n",
    "    logo_width  = int((wt/100)*4)         # 4%\n",
    "    logo = cv.resize(logo, (logo_width, logo_width))\n",
    "    img[ margin_top : logo_width + margin_top , margin_left : margin_left + logo_width ] = logo\n",
    "    \n",
    "#   Top Left\n",
    "    margin_top  = int(ht/100)             # 1%\n",
    "    logo_height = int((ht/100)*7)         # 7%\n",
    "    margin_left = int((wt/100)*.5)        # .5%\n",
    "    logo_width  = int((wt/100)*4)         # 4%\n",
    "    logo = cv.resize(logo, (logo_width, logo_width))\n",
    "    img[ margin_top : logo_width + margin_top , margin_left : margin_left + logo_width ] = logo\n",
    "    \n",
    "#   Bottom Left\n",
    "    margin_top  = int((ht/100)*92)        # 92%\n",
    "    logo_height = int((ht/100)*7)         # 7%\n",
    "    margin_left = int((wt/100)*.5)        # .5%\n",
    "    logo_width  = int((wt/100)*4)         # 4%\n",
    "    logo = cv.resize(logo, (logo_width, logo_width))\n",
    "    img[ margin_top : logo_width + margin_top , margin_left : margin_left + logo_width ] = logo\n",
    "\n",
    "#   Bottom Right\n",
    "    margin_top  = int((ht/100)*92)        # 92%\n",
    "    logo_height = int((ht/100)*7)         # 7%\n",
    "    margin_left = int((wt/100)*.5)        # .5%\n",
    "    logo_width  = int((wt/100)*4)         # 4%\n",
    "    logo = cv.resize(logo, (logo_width, logo_width))\n",
    "    img[ margin_top : logo_width + margin_top , margin_left : margin_left + logo_width ] = logo\n",
    "    \n",
    "    \n",
    "    cv.imshow('Frame'  , img)\n",
    "     \n",
    "    if cv.waitKey(1) == 27:\n",
    "        cam.release()\n",
    "        break"
   ]
  },
  {
   "cell_type": "markdown",
   "id": "cd243954-8ae4-4a44-8f2b-13bd53a9d886",
   "metadata": {},
   "source": [
    "# How to Perform Dynamic Fit for a Logo"
   ]
  },
  {
   "cell_type": "markdown",
   "id": "e8f86ff6-0e41-4623-b818-68ef2c026b47",
   "metadata": {},
   "source": [
    "### 1. Top Right\n",
    "Height (1% = Margin | 7% = Logo | 92% = Vacant) 720\n",
    "\n",
    "Width (95.5% = Margin | 4% = Logo | .5% = Vacant) 1280"
   ]
  },
  {
   "cell_type": "code",
   "execution_count": 1,
   "id": "d156ed67-920c-46ee-ac3b-b49c16881044",
   "metadata": {},
   "outputs": [
    {
     "ename": "KeyboardInterrupt",
     "evalue": "",
     "output_type": "error",
     "traceback": [
      "\u001b[1;31m---------------------------------------------------------------------------\u001b[0m",
      "\u001b[1;31mKeyboardInterrupt\u001b[0m                         Traceback (most recent call last)",
      "Cell \u001b[1;32mIn[1], line 44\u001b[0m\n\u001b[0;32m     41\u001b[0m \u001b[38;5;28;01melif\u001b[39;00m (cv\u001b[38;5;241m.\u001b[39mwaitKey(\u001b[38;5;241m1\u001b[39m) \u001b[38;5;241m==\u001b[39m \u001b[38;5;241m119\u001b[39m):\n\u001b[0;32m     42\u001b[0m     r \u001b[38;5;241m+\u001b[39m\u001b[38;5;241m=\u001b[39m \u001b[38;5;241m10\u001b[39m\n\u001b[1;32m---> 44\u001b[0m \u001b[38;5;28;01melif\u001b[39;00m \u001b[43mcv\u001b[49m\u001b[38;5;241;43m.\u001b[39;49m\u001b[43mwaitKey\u001b[49m\u001b[43m(\u001b[49m\u001b[38;5;241;43m1\u001b[39;49m\u001b[43m)\u001b[49m \u001b[38;5;241m==\u001b[39m \u001b[38;5;241m27\u001b[39m:\n\u001b[0;32m     45\u001b[0m     cam\u001b[38;5;241m.\u001b[39mrelease()\n\u001b[0;32m     46\u001b[0m     \u001b[38;5;28;01mbreak\u001b[39;00m\n",
      "\u001b[1;31mKeyboardInterrupt\u001b[0m: "
     ]
    }
   ],
   "source": [
    "import cv2 as cv\n",
    "import numpy as np\n",
    " \n",
    "cam = cv.VideoCapture(0)\n",
    "\n",
    "logo = cv.imread('download.png')\n",
    "\n",
    "r = 1280\n",
    "\n",
    "while True:\n",
    "    \n",
    "    logo = cv.imread('download.png')\n",
    "    _, img = cam.read()\n",
    "\n",
    "    img = cv.flip(img,1)\n",
    "    \n",
    "    img = img[ : , :r  ]\n",
    "    \n",
    "#     img = cv.resize(img, (720,720))\n",
    "    \n",
    "    ht = img.shape[0]\n",
    "    wt = img.shape[1]\n",
    "    \n",
    "    margin_top  = int(ht/100)             # 1%\n",
    "    logo_height = int((ht/100)*7)         # 7%\n",
    "    \n",
    "    margin_left = int((wt/100)*95.5)      # 95.5%\n",
    "    logo_width  = int((wt/100)*4)         # 4%\n",
    "    \n",
    "    side = min(logo_width,logo_height)\n",
    "    \n",
    "    logo = cv.resize(logo, (side, side))\n",
    "    \n",
    "    img[ margin_top : side + margin_top , margin_left : margin_left + side ] = logo\n",
    "\n",
    "    cv.imshow('Frame'  , img)\n",
    "    \n",
    "    if (cv.waitKey(1) == 115):\n",
    "        r -= 10\n",
    "    \n",
    "    elif (cv.waitKey(1) == 119):\n",
    "        r += 10\n",
    "    \n",
    "    elif cv.waitKey(1) == 27:\n",
    "        cam.release()\n",
    "        break"
   ]
  },
  {
   "cell_type": "code",
   "execution_count": null,
   "id": "c6250706-6f58-406f-9257-5604a07929f9",
   "metadata": {},
   "outputs": [],
   "source": []
  }
 ],
 "metadata": {
  "kernelspec": {
   "display_name": "Python 3 (ipykernel)",
   "language": "python",
   "name": "python3"
  },
  "language_info": {
   "codemirror_mode": {
    "name": "ipython",
    "version": 3
   },
   "file_extension": ".py",
   "mimetype": "text/x-python",
   "name": "python",
   "nbconvert_exporter": "python",
   "pygments_lexer": "ipython3",
   "version": "3.12.0"
  }
 },
 "nbformat": 4,
 "nbformat_minor": 5
}
